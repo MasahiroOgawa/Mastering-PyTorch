{
 "cells": [
  {
   "cell_type": "markdown",
   "id": "5d0f947a-c499-4380-b77d-e284934cf38e",
   "metadata": {},
   "source": [
    "Capsule network\n",
    "ref: https://qiita.com/hiyoko9t/items/f426cba38b6ca1a7aa2b"
   ]
  },
  {
   "cell_type": "code",
   "execution_count": null,
   "id": "6fb86af4-e990-407e-b18d-3e033ba5059c",
   "metadata": {},
   "outputs": [],
   "source": []
  }
 ],
 "metadata": {
  "kernelspec": {
   "display_name": "study",
   "language": "python",
   "name": "study"
  },
  "language_info": {
   "codemirror_mode": {
    "name": "ipython",
    "version": 3
   },
   "file_extension": ".py",
   "mimetype": "text/x-python",
   "name": "python",
   "nbconvert_exporter": "python",
   "pygments_lexer": "ipython3",
   "version": "3.9.7"
  }
 },
 "nbformat": 4,
 "nbformat_minor": 5
}
